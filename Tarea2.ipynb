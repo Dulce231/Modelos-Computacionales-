{
 "cells": [
  {
   "cell_type": "code",
   "execution_count": 2,
   "metadata": {},
   "outputs": [],
   "source": [
    "import numpy as np\n",
    "import matplotlib.pyplot as plt\n",
    "\n",
    "def matriz(matrix, tol=1e-6, max_iter=1000):\n",
    "    matrix = np.array(matrix, dtype=np.float64)\n",
    "    prev_matrix = np.copy(matrix)\n",
    "    \n",
    "    for _ in range(max_iter):\n",
    "        new_matrix = np.dot(prev_matrix, matrix)\n",
    "        \n",
    "        if np.allclose(new_matrix, prev_matrix, atol=tol):\n",
    "            break\n",
    "        prev_matrix = new_matrix\n",
    "    \n",
    "    return np.round(new_matrix, 4)"
   ]
  },
  {
   "cell_type": "code",
   "execution_count": null,
   "metadata": {},
   "outputs": [],
   "source": [
    "# Matriz \n",
    "transition_matrix = [\n",
    "    [0.25, 0.50, 0.25],\n",
    "    [0.05, 0.90, 0.05],\n",
    "    [0.10, 0.50, 0.40]\n",
    "]\n",
    "\n",
    "stable_state = matriz(transition_matrix)"
   ]
  },
  {
   "cell_type": "code",
   "execution_count": null,
   "metadata": {},
   "outputs": [
    {
     "name": "stdout",
     "output_type": "stream",
     "text": [
      "Matriz estable:\n",
      "[[0.0686 0.8333 0.098 ]\n",
      " [0.0686 0.8333 0.098 ]\n",
      " [0.0686 0.8333 0.098 ]]\n"
     ]
    }
   ],
   "source": [
    "# Mostrar resultados de matriz estable\n",
    "print(\"Matriz estable:\")\n",
    "print(stable_state)\n",
    "\n"
   ]
  }
 ],
 "metadata": {
  "kernelspec": {
   "display_name": "Python 3",
   "language": "python",
   "name": "python3"
  },
  "language_info": {
   "codemirror_mode": {
    "name": "ipython",
    "version": 3
   },
   "file_extension": ".py",
   "mimetype": "text/x-python",
   "name": "python",
   "nbconvert_exporter": "python",
   "pygments_lexer": "ipython3",
   "version": "3.12.9"
  }
 },
 "nbformat": 4,
 "nbformat_minor": 2
}
