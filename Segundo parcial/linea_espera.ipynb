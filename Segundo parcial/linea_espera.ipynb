{
 "cells": [
  {
   "cell_type": "code",
   "execution_count": 4,
   "metadata": {},
   "outputs": [],
   "source": [
    "vlamda=int(input(\"tasadellegada:\"))\n",
    "vmu=int(input(\"tasadeservicio:\"))"
   ]
  },
  {
   "cell_type": "code",
   "execution_count": 5,
   "metadata": {},
   "outputs": [
    {
     "data": {
      "text/plain": [
       "(35, 30)"
      ]
     },
     "execution_count": 5,
     "metadata": {},
     "output_type": "execute_result"
    }
   ],
   "source": [
    "vlamda,vmu"
   ]
  },
  {
   "cell_type": "code",
   "execution_count": null,
   "metadata": {},
   "outputs": [
    {
     "name": "stdout",
     "output_type": "stream",
     "text": [
      "A) CALCULE LA PROBABILIDAD DE QUE HAYA CERO CLIENTES EN EL SISTEMA:  -16.666666666666675 %\n",
      "B) DETERMINE LA UTILIZACION PROMEDIO DEL EMPLEADO EN LA CAJA REGISTRADORA:  116.66666666666667 %\n",
      "C) CALCULE EL PROMEDIO DE CLIENTES EN EL SISTEMA:  -7.0 clientes\n",
      "D) DETERMINE EL NUMERO PROMEDIO DE CLIENTES FORMADOS EN LA FILA: -8.0\n"
     ]
    }
   ],
   "source": [
    "def cero_clientes(tasadellegada,ritmoservicio):\n",
    "    return(1-(tasadellegada/ritmoservicio))*100\n",
    "\n",
    "def utiliza_prom_sistema(tasadellegada,ritmoservicio):\n",
    "    return(tasadellegada/ritmoservicio)*100\n",
    "\n",
    "def promedio_clientes_sistema(tasadellegada,ritmoservicio):\n",
    "    return(tasadellegada/(ritmoservicio-tasadellegada))\n",
    "\n",
    "def promedio_clientes_cola(tasadellegada,ritmoservicio):\n",
    "    return(tasadellegada**2/(ritmoservicio*(ritmoservicio-tasadellegada)))\n",
    "\n",
    "def promedio_clientes_sistema_w(tasadellegada,ritmoservicio):\n",
    "    return(ritmoservicio/(ritmoservicio-tasadellegada))\n",
    "\n",
    "def promedio_espera_fila(tasadellegada):\n",
    "    return promedio_clientes_cola(vlamda,vmu)/tasadellegada\n",
    "\n",
    "print(\"A) CALCULE LA PROBABILIDAD DE QUE HAYA CERO CLIENTES EN EL SISTEMA: \",cero_clientes(vlamda,vmu),\"%\")\n",
    "print(\"B) DETERMINE LA UTILIZACION PROMEDIO DEL EMPLEADO EN LA CAJA REGISTRADORA: \",utiliza_prom_sistema(vlamda,vmu),\"%\")\n",
    "print(\"C) CALCULE EL PROMEDIO DE CLIENTES EN EL SISTEMA: \",promedio_clientes_sistema(vlamda,vmu),\"clientes\")\n",
    "print(\"D) DETERMINE EL NUMERO PROMEDIO DE CLIENTES FORMADOS EN LA FILA:\",round(promedio_clientes_cola(vlamda,vmu),0))\n"
   ]
  }
 ],
 "metadata": {
  "kernelspec": {
   "display_name": "Python 3",
   "language": "python",
   "name": "python3"
  },
  "language_info": {
   "codemirror_mode": {
    "name": "ipython",
    "version": 3
   },
   "file_extension": ".py",
   "mimetype": "text/x-python",
   "name": "python",
   "nbconvert_exporter": "python",
   "pygments_lexer": "ipython3",
   "version": "3.10.0"
  }
 },
 "nbformat": 4,
 "nbformat_minor": 2
}
