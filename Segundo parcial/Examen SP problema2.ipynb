{
 "cells": [
  {
   "cell_type": "code",
   "execution_count": 6,
   "metadata": {},
   "outputs": [],
   "source": [
    "from math import factorial\n",
    "\n",
    "lambd = 80 #clientes por hora\n",
    "mu = 30  #clientes por hora, 1 cliente cada 2 minutos\n",
    "s = 5  # Número de servidores\n",
    "\n",
    "rho = lambd / (s * mu)"
   ]
  },
  {
   "cell_type": "code",
   "execution_count": 7,
   "metadata": {},
   "outputs": [
    {
     "name": "stdout",
     "output_type": "stream",
     "text": [
      "Utilización promedio de los empleados de la consesion: 0.5333\n",
      "Tiempo promedio que pasan los clientes en el área de concesión (W): 13.08 minutos\n"
     ]
    }
   ],
   "source": [
    "#Sistema es estable\n",
    "if rho >= 1:\n",
    "    print(\"El sistema no es estable\")\n",
    "else:\n",
    "    #probabilidad de que no haya clientes en el sistema\n",
    "    sumatoria = sum((lambd / mu) ** n / factorial(n) for n in range(s))\n",
    "    ultimo_termino = ((lambd / mu) ** s / (factorial(s) * (1 - rho)))\n",
    "    P0 = 1 / (sumatoria + ultimo_termino)\n",
    "\n",
    "    # Cálculo del tiempo promedio en la fila\n",
    "    Wq = (P0 * (lambd / mu) ** s * rho) / (factorial(s) * (1 - rho) ** 2)\n",
    "\n",
    "    # Cálculo del tiempo promedio en el sistema (W)\n",
    "    W = Wq + (1 / mu)\n",
    "    \n",
    "    print(f\"Utilización promedio de los empleados de la consesion: {rho:.4f}\")\n",
    "    print(f\"Tiempo promedio que pasan los clientes en el área de concesión (W): {W * 60:.2f} minutos\")"
   ]
  }
 ],
 "metadata": {
  "kernelspec": {
   "display_name": "Python 3",
   "language": "python",
   "name": "python3"
  },
  "language_info": {
   "codemirror_mode": {
    "name": "ipython",
    "version": 3
   },
   "file_extension": ".py",
   "mimetype": "text/x-python",
   "name": "python",
   "nbconvert_exporter": "python",
   "pygments_lexer": "ipython3",
   "version": "3.12.9"
  }
 },
 "nbformat": 4,
 "nbformat_minor": 2
}
