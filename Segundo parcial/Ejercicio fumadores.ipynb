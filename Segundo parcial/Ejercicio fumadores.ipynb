{
 "cells": [
  {
   "cell_type": "code",
   "execution_count": null,
   "metadata": {},
   "outputs": [],
   "source": [
    "#En una poblacion de 10,000 habitantes,5000 no fuman, 2500 fuman 1 paquete o menos diario y\n",
    "# 2500 fuman mas de un paquete diario. en un mes hay un 5% de probabilidad de que un fumador empiece a fumar un paquete diario, o memos \n",
    "#y un 2% de probabilidad de que un fumador pase a fumar un paquete diario. Para los que fuman\n",
    "# 1 paquete o menos hay un 10% de probabilidad que dejen el tabaco y un 10% de qeu pasen a fumanr un paquete diario.\n",
    "# entre los que fuman mas de un paquete hay un 5% de probabilidad de que dejen el tabaco y un 10%\n",
    "# de que pasen  a fumar un paquede o menos, ¿cuantos individuos habra de cada tipo despues de un mes?"
   ]
  },
  {
   "cell_type": "code",
   "execution_count": 1,
   "metadata": {},
   "outputs": [
    {
     "name": "stdout",
     "output_type": "stream",
     "text": [
      "Población después de un mes:\n",
      "No fumadores: 4825\n",
      "Fumadores de más de 1 paquete diario: 2750\n",
      "Fumadores de 1 paquete o menos diario: 2625\n"
     ]
    }
   ],
   "source": [
    "import numpy as np\n",
    "\n",
    "# Definir la matriz de transición\n",
    "matriz_transicion = np.array([\n",
    "    [0.93, 0.05, 0.02],  # No fumadores\n",
    "    [0.10, 0.80, 0.10],  # Fumadores de más de 1 paquete diario\n",
    "    [0.05, 0.10, 0.85]   # Fumadores de 1 paquete o menos diario\n",
    "])\n",
    "\n",
    "# Definir la población inicial\n",
    "poblacion_inicial = np.array([5000, 2500, 2500])\n",
    "\n",
    "# Calcular la población después de un mes\n",
    "poblacion_despues_de_un_mes = np.dot(matriz_transicion, poblacion_inicial)\n",
    "\n",
    "# Redondear los valores ya que no puede haber fracciones de personas\n",
    "poblacion_despues_de_un_mes = np.round(poblacion_despues_de_un_mes).astype(int)\n",
    "\n",
    "# Imprimir los resultados\n",
    "print(\"Población después de un mes:\")\n",
    "print(f\"No fumadores: {poblacion_despues_de_un_mes[0]}\")\n",
    "print(f\"Fumadores de más de 1 paquete diario: {poblacion_despues_de_un_mes[1]}\")\n",
    "print(f\"Fumadores de 1 paquete o menos diario: {poblacion_despues_de_un_mes[2]}\")"
   ]
  }
 ],
 "metadata": {
  "kernelspec": {
   "display_name": "Python 3",
   "language": "python",
   "name": "python3"
  },
  "language_info": {
   "codemirror_mode": {
    "name": "ipython",
    "version": 3
   },
   "file_extension": ".py",
   "mimetype": "text/x-python",
   "name": "python",
   "nbconvert_exporter": "python",
   "pygments_lexer": "ipython3",
   "version": "3.12.9"
  }
 },
 "nbformat": 4,
 "nbformat_minor": 2
}
