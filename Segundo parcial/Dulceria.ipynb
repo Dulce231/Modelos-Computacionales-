{
 "cells": [
  {
   "cell_type": "code",
   "execution_count": null,
   "metadata": {},
   "outputs": [
    {
     "name": "stdout",
     "output_type": "stream",
     "text": [
      "p0:  0.024906600249065998\n"
     ]
    }
   ],
   "source": [
    "# %%\n",
    "# PLANTEAMIENTO:\n",
    "# UNA DULCERIA DE CINE TIENE TRES EMPLEADOS QUE ATIENDEN A LOS CLIENTES POR RIGUROSO ORDEN\n",
    "# DE LLEGADA. EL TIEMPO DE SERVICIO POR CLIENTE SE DISTRIBUYE EXPONENCIALMENTE , CON Un\n",
    "# PROMEDIO DE 2 MINUTOS POR CLIENTE. LOS CLIENTES DE LA DULCERIA ESPERAN EN UN AMPLIO\n",
    "# ESPACIO FORMANDO UNA SOLA FILA Y SUS LLEGADAS TIENEN UNA DISTRIBUCION DE POISSON\n",
    "# CON UN PROMEDIO DE 81 CLIENTES POR HORA. SI EL TIEMPO PROMEDIO QUE PASAN EN EL AREA DE\n",
    "# DULCERIA REBASA LOS 10 MINUTOS LOS CLIENTES SE SIENTEN INSATISFECHOS.\n",
    " \n",
    "from math import exp\n",
    "from math import factorial\n",
    " \n",
    "#p0\n",
    "def Pzero(tasallegada,tasaservicio,servidores):\n",
    "    sumatoria = 0\n",
    "    for x in range(servidores):\n",
    "        calculo=1.0/factorial(x) * ((tasallegada/tasaservicio)**x)\n",
    "        sumatoria += calculo\n",
    "        expresion=(1.0/factorial(servidores)) * ((tasallegada/tasaservicio)**servidores) * ((servidores*tasaservicio)/(servidores*tasaservicio-tasallegada))\n",
    "        resultado=1.0/(sumatoria+expresion)\n",
    "    return resultado\n",
    " \n",
    "#utilizacion promedio p\n",
    "def UtilizacionPromedio(tasallegada,tasaservicio,servidores):\n",
    "    return float(tasallegada/(tasaservicio*servidores))\n",
    " \n",
    "#factor o porcentaje ocioso del sistema\n",
    "def FactorOcioso(tasallegada,tasaservicio,servidores):\n",
    "    return (100 - UtilizacionPromedio(tasallegada,tasaservicio,servidores))\n",
    " \n",
    "#numero esperado de clientes en la cola lg\n",
    "def lq(tasallegada,tasaservicio,servidores):\n",
    "    num=((Pzero(tasallegada,tasaservicio,servidores)) * ((tasallegada/tasaservicio)**servidores)) * UtilizacionPromedio(tasallegada,tasaservicio,servidores)\n",
    "    den=factorial(servidores) * ((1-UtilizacionPromedio(tasallegada,tasaservicio,servidores))**2)\n",
    "    return num/den\n",
    "\n",
    "   ##tiempo promedio de espera en la cola\n",
    "def Wq(tasallegada,tasaservicio,servidores):\n",
    "    return (lq(tasallegada,tasaservicio,servidores)/tasallegada)\n",
    " ##tiempo promedio de espera en el sistema\n",
    "def W (tasallegada,tasaservicio,servidores):\n",
    "    return Wq(tasallegada,tasaservicio,servidores) + (1/tasaservicio)\n",
    "\n",
    "def L( tasallegada,tasaservicio,servidores):\n",
    "    return lq(tasallegada * W(tasallegada,tasaservicio,servidores))\n",
    " \n",
    "\n",
    "vlamda=int(input(\"TASA DE LLEGADAS: \"))\n",
    "vmu=int(input(\"TASA DE SERVICIO: \"))\n",
    "servidores=int(input(\"NUMERO DE SERVIDORES: \"))\n",
    " \n",
    "\n",
    "print(\"p0: \",Pzero(vlamda,vmu,servidores))"
   ]
  },
  {
   "cell_type": "code",
   "execution_count": 17,
   "metadata": {},
   "outputs": [
    {
     "name": "stdout",
     "output_type": "stream",
     "text": [
      "Numero esperado de clientes en la cola:  7.0\n"
     ]
    }
   ],
   "source": [
    "#Numero de clientes en la fila \n",
    "print(\"Numero esperado de clientes en la cola: \", round(lq(vlamda, vmu, servidores), 0))"
   ]
  },
  {
   "cell_type": "code",
   "execution_count": 18,
   "metadata": {},
   "outputs": [
    {
     "name": "stdout",
     "output_type": "stream",
     "text": [
      "Tiempo esperado de espera en la cola:  7.35 Horas\n",
      "Tiempo esperado de espera en la cola:  441.21 Minutos\n"
     ]
    }
   ],
   "source": [
    "#Tiempo promedio de espera en la fila \n",
    "print(\"Tiempo esperado de espera en la cola: \", round(lq(vlamda, vmu, servidores), 2), \"Horas\")\n",
    "print(\"Tiempo esperado de espera en la cola: \", round(lq(vlamda, vmu, servidores) * 60, 2), \"Minutos\")"
   ]
  },
  {
   "cell_type": "code",
   "execution_count": null,
   "metadata": {},
   "outputs": [],
   "source": []
  },
  {
   "cell_type": "code",
   "execution_count": 19,
   "metadata": {},
   "outputs": [
    {
     "name": "stdout",
     "output_type": "stream",
     "text": [
      "Tiempo esperado de espera en el sistema:  0.12 Horas\n",
      "Tiempo esperado de espera en la cola:  441.21 Minutos\n"
     ]
    }
   ],
   "source": [
    "#Tiempo promedio de espera en el sistema\n",
    "print(\"Tiempo esperado de espera en el sistema: \", round(W(vlamda, vmu, servidores), 2), \"Horas\")\n",
    "print(\"Tiempo esperado de espera en la cola: \", round(lq(vlamda, vmu, servidores) * 60, 2), \"Minutos\")\n"
   ]
  },
  {
   "cell_type": "code",
   "execution_count": null,
   "metadata": {},
   "outputs": [
    {
     "name": "stdout",
     "output_type": "stream",
     "text": [
      "Cantidad promedio de clientes en el sistema:  0 Clientes\n"
     ]
    }
   ],
   "source": [
    "#Cantidad promedio de clientes en el sistema\n",
    "print(\"Cantidad promedio de clientes en el sistema: \", round(W(vlamda, vmu, servidores) * 60, 2), \"Clientes\")"
   ]
  },
  {
   "cell_type": "code",
   "execution_count": 21,
   "metadata": {},
   "outputs": [],
   "source": [
    "#"
   ]
  }
 ],
 "metadata": {
  "kernelspec": {
   "display_name": "Python 3",
   "language": "python",
   "name": "python3"
  },
  "language_info": {
   "codemirror_mode": {
    "name": "ipython",
    "version": 3
   },
   "file_extension": ".py",
   "mimetype": "text/x-python",
   "name": "python",
   "nbconvert_exporter": "python",
   "pygments_lexer": "ipython3",
   "version": "3.12.9"
  }
 },
 "nbformat": 4,
 "nbformat_minor": 2
}
