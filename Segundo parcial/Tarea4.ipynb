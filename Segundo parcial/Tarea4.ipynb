{
 "cells": [
  {
   "cell_type": "code",
   "execution_count": 1,
   "metadata": {},
   "outputs": [],
   "source": [
    "import numpy as np\n",
    "from scipy.linalg import eig\n",
    "import math"
   ]
  },
  {
   "cell_type": "code",
   "execution_count": 9,
   "metadata": {},
   "outputs": [
    {
     "name": "stdout",
     "output_type": "stream",
     "text": [
      "Próximo mes - Compradores: 350, No compradores: 650\n",
      "Dos meses después - Compradores: 475, No compradores: 525\n"
     ]
    }
   ],
   "source": [
    "#Problema 1 Compra de Productos\n",
    "# Definición de la matriz de transición\n",
    "P = np.array([[0.8, 0.2],  # comprador, no comprador\n",
    "              [0.3, 0.7]]) # comprador, no comprador \n",
    "\n",
    "# Estado inicial\n",
    "estado_inicial = np.array([100, 900])  # [compradores, no compradores]\n",
    "\n",
    "# Cálculo para el próximo mes\n",
    "proximo_mes = np.dot(estado_inicial, P)\n",
    "print(f\"Próximo mes - Compradores: {proximo_mes[0]:.0f}, No compradores: {proximo_mes[1]:.0f}\")\n",
    "\n",
    "# Cálculo para dos meses después\n",
    "dos_meses = np.dot(proximo_mes, P)\n",
    "print(f\"Dos meses después - Compradores: {dos_meses[0]:.0f}, No compradores: {dos_meses[1]:.0f}\")"
   ]
  },
  {
   "cell_type": "code",
   "execution_count": 10,
   "metadata": {},
   "outputs": [
    {
     "name": "stdout",
     "output_type": "stream",
     "text": [
      "Porcentajes de mercado en estado estable:\n",
      "Guiness (G): 34.62%\n",
      "Heineken (H): 38.46%\n",
      "Otras marcas (I): 26.92%\n"
     ]
    }
   ],
   "source": [
    "#Problema 2 Marcado de cerveza\n",
    "# Definición de la matriz de transición\n",
    "P_cerveza = np.array([[0.7, 0.2, 0.1],\n",
    "                      [0.2, 0.75, 0.05],\n",
    "                      [0.1, 0.1, 0.8]])\n",
    "\n",
    "# Cálculo del estado estable\n",
    "valores, vectores = eig(P_cerveza.T)\n",
    "estado_estable = np.real(vectores[:, np.isclose(valores, 1)])\n",
    "estado_estable = estado_estable / estado_estable.sum()\n",
    "estado_estable = estado_estable.flatten()  \n",
    "\n",
    "print(f\"Porcentajes de mercado en estado estable:\")\n",
    "print(f\"Guiness (G): {estado_estable[0]*100:.2f}%\")\n",
    "print(f\"Heineken (H): {estado_estable[1]*100:.2f}%\")\n",
    "print(f\"Otras marcas (I): {estado_estable[2]*100:.2f}%\")"
   ]
  },
  {
   "cell_type": "code",
   "execution_count": 11,
   "metadata": {},
   "outputs": [
    {
     "name": "stdout",
     "output_type": "stream",
     "text": [
      "1. Tiempo de espera promedio en la fila (Wq): 0.10 minutos\n",
      "2. Tiempo total promedio en el sistema (W): 5.55 minutos\n",
      "3. Número promedio de clientes en el sistema (L): 0.7403 clientes\n",
      "4. Probabilidad de que un cliente tenga que esperar (Pw): 4.08%\n",
      "5. Nivel de utilización del sistema: 24.24%\n"
     ]
    }
   ],
   "source": [
    "#Problema 3 Sistema de servicio\n",
    "# Parámetros \n",
    "lambda_ = 8  # tasa de llegada clientes/hora\n",
    "mu = 11      # tasa de servicio por servidor clientes/hora\n",
    "s = 3        # número de servidores\n",
    "\n",
    "#intensidad de tráfico\n",
    "rho = lambda_ / (s * mu)\n",
    "\n",
    "# Cálculo de P0 \n",
    "sum_p0 = sum([(lambda_/mu)**n / math.factorial(n) for n in range(s)])\n",
    "sum_p0 += (lambda_/mu)**s / (math.factorial(s) * (1 - rho))\n",
    "P0 = 1 / sum_p0\n",
    "\n",
    "#número promedio de clientes en la fila\n",
    "Lq = (P0 * (lambda_/mu)**s * rho) / (math.factorial(s) * (1 - rho)**2)\n",
    "\n",
    "#tiempo promedio de espera en la fila\n",
    "Wq = Lq / lambda_\n",
    "\n",
    "#tiempo promedio en el sistema\n",
    "W = Wq + (1/mu)\n",
    "\n",
    "#número promedio de clientes en el sistema\n",
    "L = lambda_ * W\n",
    "\n",
    "#probabilidad de que un cliente tenga que esperar\n",
    "Pw = (1/math.factorial(s)) * (lambda_/mu)**s * (s*mu/(s*mu - lambda_)) * P0\n",
    "\n",
    "# Nivel de utilización del sistema\n",
    "utilizacion = lambda_ / (s * mu)\n",
    "\n",
    "print(f\"1. Tiempo de espera promedio en la fila (Wq): {Wq*60:.2f} minutos\")\n",
    "print(f\"2. Tiempo total promedio en el sistema (W): {W*60:.2f} minutos\")\n",
    "print(f\"3. Número promedio de clientes en el sistema (L): {L:.4f} clientes\")\n",
    "print(f\"4. Probabilidad de que un cliente tenga que esperar (Pw): {Pw*100:.2f}%\")\n",
    "print(f\"5. Nivel de utilización del sistema: {utilizacion*100:.2f}%\")"
   ]
  }
 ],
 "metadata": {
  "kernelspec": {
   "display_name": "Python 3",
   "language": "python",
   "name": "python3"
  },
  "language_info": {
   "codemirror_mode": {
    "name": "ipython",
    "version": 3
   },
   "file_extension": ".py",
   "mimetype": "text/x-python",
   "name": "python",
   "nbconvert_exporter": "python",
   "pygments_lexer": "ipython3",
   "version": "3.12.9"
  }
 },
 "nbformat": 4,
 "nbformat_minor": 2
}
