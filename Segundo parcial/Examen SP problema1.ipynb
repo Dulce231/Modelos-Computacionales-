{
 "cells": [
  {
   "cell_type": "code",
   "execution_count": 5,
   "metadata": {},
   "outputs": [],
   "source": [
    "import numpy as np\n",
    "# Matriz de transición\n",
    "P = np.array([\n",
    "    [0.52, 0.30, 0.18],\n",
    "    [0.23, 0.35, 0.42],\n",
    "    [0.07, 0.24, 0.69]])"
   ]
  },
  {
   "cell_type": "code",
   "execution_count": 6,
   "metadata": {},
   "outputs": [],
   "source": [
    "# 2. Calcular matrices de transición\n",
    "P2 = np.linalg.matrix_power(P, 2)  # Lunes -> Miércoles\n",
    "P3 = np.linalg.matrix_power(P, 3)  # Domingo -> Miércoles"
   ]
  },
  {
   "cell_type": "code",
   "execution_count": 7,
   "metadata": {},
   "outputs": [
    {
     "name": "stdout",
     "output_type": "stream",
     "text": [
      "1. Probabilidad de que un paciente que se reporta muy grave un dia lunes este estable al miercoles siguiente 0.1399 (13.99%)\n",
      "2. Probabilidad para que una persona que esta en estado delicado el domingo registre una complicacion o mejora y deje de estar delicado al miercoles siguiente 0.7141 (71.41%)\n"
     ]
    }
   ],
   "source": [
    "print(\"1. Probabilidad de que un paciente que se reporta muy grave un dia lunes este estable al miercoles siguiente\", f\"{P2[2, 0]:.4f} ({P2[2, 0]*100:.2f}%)\")\n",
    "print(\"2. Probabilidad para que una persona que esta en estado delicado el domingo registre una complicacion o mejora y deje de estar delicado al miercoles siguiente\", f\"{P3[1, 0] + P3[1, 2]:.4f} ({(P3[1, 0] + P3[1, 2])*100:.2f}%)\")"
   ]
  }
 ],
 "metadata": {
  "kernelspec": {
   "display_name": "Python 3",
   "language": "python",
   "name": "python3"
  },
  "language_info": {
   "codemirror_mode": {
    "name": "ipython",
    "version": 3
   },
   "file_extension": ".py",
   "mimetype": "text/x-python",
   "name": "python",
   "nbconvert_exporter": "python",
   "pygments_lexer": "ipython3",
   "version": "3.12.9"
  }
 },
 "nbformat": 4,
 "nbformat_minor": 2
}
